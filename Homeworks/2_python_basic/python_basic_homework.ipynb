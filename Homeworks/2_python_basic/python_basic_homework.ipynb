{
 "cells": [
  {
   "cell_type": "markdown",
   "metadata": {},
   "source": [
    "**Задание 1**. Даны 2 строки: *long_phrase* и *short_phrase*. \n",
    "Напишите код, который проверяет действительно ли длинная фраза *long_phrase* длиннее короткой *short_phrase*. И выводит *True* или *False* в зависимости от результата сравнения."
   ]
  },
  {
   "cell_type": "code",
   "execution_count": 1,
   "metadata": {},
   "outputs": [],
   "source": [
    "long_phrase = 'Насколько проще было бы писать программы, если бы не заказчики'\n",
    "short_phrase = '640Кб должно хватить для любых задач. Билл Гейтс (по легенде)'"
   ]
  },
  {
   "cell_type": "code",
   "execution_count": 2,
   "metadata": {},
   "outputs": [
    {
     "name": "stdout",
     "output_type": "stream",
     "text": [
      "True\n"
     ]
    }
   ],
   "source": [
    "print(len(long_phrase) > len(short_phrase))"
   ]
  },
  {
   "cell_type": "markdown",
   "metadata": {},
   "source": [
    "**Задание 2**. Дано значение объема файла в байтах (*в мегабайте 2^20 байт*). Напишите перевод этого значения в мегабайты в формате: \"*Объем файла равен 213.68Mb*\"."
   ]
  },
  {
   "cell_type": "code",
   "execution_count": 6,
   "metadata": {},
   "outputs": [
    {
     "name": "stdout",
     "output_type": "stream",
     "text": [
      "Введите размер файла в байтах: 1000000\n",
      "Размер файла в мегабайтах:  0.95 MB\n"
     ]
    }
   ],
   "source": [
    "size_bytes = int(input('Введите размер файла в байтах: '))\n",
    "size_megabytes = size_bytes / (2 ** 20)\n",
    "print('Размер файла в мегабайтах: ', round(size_megabytes, ndigits=2), 'MB')"
   ]
  },
  {
   "cell_type": "markdown",
   "metadata": {},
   "source": [
    "**Задание 3**. Разработать приложение для определения знака зодиака по дате рождения. Пример:\n",
    "\n",
    "Введите месяц: март\n",
    "\n",
    "Введите число: 6\n",
    "\n",
    "Вывод:\n",
    "Рыбы"
   ]
  },
  {
   "cell_type": "code",
   "execution_count": 15,
   "metadata": {},
   "outputs": [
    {
     "name": "stdout",
     "output_type": "stream",
     "text": [
      "Введите месяц: фцв\n",
      "Введите число: 3\n",
      "Вы где-то ошиблись в вводе\n",
      "Знак зодиака: Козерог\n"
     ]
    }
   ],
   "source": [
    "\"\"\"\n",
    "Решение 1\n",
    "\"\"\"\n",
    "\n",
    "month = input('Введите месяц: ').lower()\n",
    "day = int(input('Введите число: '))\n",
    "\n",
    "if month == 'январь':\n",
    "    zodiac_sign = 'Козерог' if day <= 20 else 'Водолей'\n",
    "    \n",
    "elif month == 'февраль':\n",
    "    zodiac_sign = 'Водолей' if day <= 18 else 'Рыбы'\n",
    "    \n",
    "elif month == 'март':\n",
    "    zodiac_sign = 'Рыбы' if day <= 21 else 'Овен'\n",
    "    \n",
    "elif month == 'апрель':\n",
    "    zodiac_sign = 'Овен' if day <= 20 else 'Телец'\n",
    "    \n",
    "elif month == 'май':\n",
    "    zodiac_sign = 'Телец' if day <= 21 else 'Близнецы'\n",
    "    \n",
    "elif month == 'июнь':\n",
    "    zodiac_sign = 'Близнецы' if day <= 22 else 'Рак'\n",
    "    \n",
    "elif month == 'июль':\n",
    "    zodiac_sign = 'Рак' if day <= 23 else 'Лев'\n",
    "    \n",
    "elif month == 'август':\n",
    "    zodiac_sign = 'Лев' if day <= 23 else 'Дева'\n",
    "    \n",
    "elif month == 'сентябрь':\n",
    "    zodiac_sign = 'Дева' if day <= 23 else 'Весы'\n",
    "    \n",
    "elif month == 'октябрь':\n",
    "    zodiac_sign = 'Весы' if day <= 24 else 'Скорпион'\n",
    "    \n",
    "elif month == 'ноябрь':\n",
    "    zodiac_sign = 'Скорпион' if day <= 23 else 'Стрелец'\n",
    "    \n",
    "elif month == 'декабрь':\n",
    "    zodiac_sign = 'Стрелец' if day <= 22 else 'Козерог'\n",
    "    \n",
    "else:\n",
    "    print('Вы где-то ошиблись в вводе')\n",
    "    \n",
    "print('Знак зодиака:', zodiac_sign)        "
   ]
  },
  {
   "cell_type": "code",
   "execution_count": 16,
   "metadata": {},
   "outputs": [
    {
     "name": "stdout",
     "output_type": "stream",
     "text": [
      "Введите месяц рождения: март\n",
      "Введите день рождения: 0\n",
      "Знак зодиака: Рыбы\n"
     ]
    }
   ],
   "source": [
    "\"\"\"\n",
    "Решение 2, но на лекции не было ещё словарей. Я месяца полтора питон изучаю уже.\n",
    "\"\"\"\n",
    "\n",
    "\n",
    "zodiac_signs = {\n",
    "    'январь': ['Козерог', 20, 'Водолей'], 'февраль': ['Водолей', 18, 'Рыбы'], 'март': ['Рыбы', 21, 'Овен'], \n",
    "    'апрель': ['Овен', 20, 'Телец'], 'май': ['Телец', 21, 'Близнецы'], 'июнь': ['Близнецы', 22, 'Рак'], \n",
    "    'июль': ['Рак', 23, 'Лев'], 'август': ['Лев', 23, 'Дева'], 'сентябрь': ['Дева', 23, 'Весы'], \n",
    "    'октябрь': ['Весы', 24, 'Скорпион'], 'ноябрь': ['Скорпион', 23, 'Стрелец'], 'декабрь': ['Стрелец', 22, 'Козерог']}\n",
    "\n",
    "month = input('Введите месяц рождения: ').lower()\n",
    "day = int(input('Введите день рождения: '))\n",
    "\n",
    "zodiac_sign_2 = zodiac_signs[month][0] if day <= zodiac_signs[month][1] else zodiac_signs[month][2]\n",
    "print('Знак зодиака:', zodiac_sign_2)"
   ]
  },
  {
   "cell_type": "code",
   "execution_count": 3,
   "metadata": {},
   "outputs": [
    {
     "name": "stdout",
     "output_type": "stream",
     "text": [
      "Введите месяц рождения: мАрТ\n",
      "Введите день рождения: 9\n",
      "Знак зодиака:  Рыбы\n"
     ]
    }
   ],
   "source": [
    "\"\"\"\n",
    "Стало интересно, есть ли готовое решение. Показалось забавно, что в питоне есть библиотеки на все случаи жизни\n",
    "Потом закралось подозрение, погуглил и спросил в слаке бывает ли вредоносный код в библиотеках питона - бывает, \n",
    "к таким вещам буду относиться осторожнее.\n",
    "\"\"\"\n",
    "\n",
    "# !python -m pip install --upgrade pip\n",
    "# !pip install zodiac-sign\n",
    "\n",
    "from zodiac_sign import get_zodiac_sign\n",
    "import locale\n",
    "\n",
    "months = {\n",
    "    'январь': 1, 'февраль': 2, 'март': 3, 'апрель': 4, 'май': 5, 'июнь': 6,\n",
    "    'июль': 7, 'август': 8, 'сентябрь': 9, 'октябрь': 10, 'ноябрь': 11, 'декабрь': 12}\n",
    "month = input('Введите месяц рождения: ')\n",
    "day = int(input('Введите день рождения: '))\n",
    "\n",
    "locale.setlocale(locale.LC_ALL, 'ru_RU')\n",
    "print('Знак зодиака: ', get_zodiac_sign(day, months[month.lower()]))"
   ]
  },
  {
   "cell_type": "markdown",
   "metadata": {},
   "source": [
    "Пример работы кода\n",
    "![Пример работы](https://sun1-20.userapi.com/gdvuEdh3iPIL1FHPaVCImqqcOzuZn33SKVIThg/bn0s0Tm49tc.jpg)"
   ]
  },
  {
   "cell_type": "markdown",
   "metadata": {},
   "source": [
    "**Задание 4**. Нужно разработать приложение для финансового планирования.\n",
    "Приложение учитывает сколько уходит на ипотеку, \"на жизнь\" и сколько нужно отложить на пенсию.\n",
    "Пользователь вводит:\n",
    "- заработанную плату в месяц.\n",
    "- сколько процентов от ЗП уходит на ипотеку.\n",
    "- сколько процентов от ЗП уходит \"на жизнь\".\n",
    "- сколько раз приходит премия в год.\n",
    "\n",
    "Остальная часть заработанной платы откладывается на пенсию.\n",
    "\n",
    "Также пользователю приходит премия в размере зарплаты, от которой половина уходит на отпуск, а вторая половина откладывается.\n",
    "\n",
    "Программа должна учитывать сколько премий было в год.\n",
    "\n",
    "Нужно вывести сколько денег тратит пользователь на ипотеку и сколько он накопит за год.\n",
    "\n",
    "Пример:\n",
    "\n",
    "Введите заработанную плату в месяц: 100000\n",
    "\n",
    "Введите сколько процентов уходит на ипотеку: 30\n",
    "\n",
    "Введите сколько процентов уходит на жизнь: 50\n",
    "\n",
    "Введите количество премий за год: 2\n",
    "\n",
    "Вывод:\n",
    "На ипотеку было потрачено: 360000 рублей\n",
    "Было накоплено: 340000 рублей"
   ]
  },
  {
   "cell_type": "code",
   "execution_count": 13,
   "metadata": {},
   "outputs": [
    {
     "name": "stdout",
     "output_type": "stream",
     "text": [
      "Введите заработную плату в месяц: 100000\n",
      "Введите сколько процентов уходит на ипотеку: 30\n",
      "Введите сколько процентов от ЗП уходит \"на жизнь\": 50\n",
      "Введите количество премий за год: 2\n",
      "На ипотеку было потрачено: 360000.0 рублей. Было накоплено: 340000.0 рублей.\n"
     ]
    }
   ],
   "source": [
    "month_salary = int(input('Введите заработную плату в месяц: '))\n",
    "mortgage_expense = int(input('Введите сколько процентов уходит на ипотеку: '))\n",
    "living_expenses = int(input('Введите сколько процентов от ЗП уходит \"на жизнь\": '))\n",
    "quanity_bonuses = int(input('Введите количество премий за год: '))\n",
    "\n",
    "total_mortage = 0.12 * month_salary * mortgage_expense\n",
    "total_living_expenses = 0.12 * month_salary * living_expenses\n",
    "vacation_expenses = quanity_bonuses * month_salary / 2\n",
    "total_income = (12 + quanity_bonuses) * month_salary\n",
    "savings = total_income - total_mortage - total_living_expenses - vacation_expenses\n",
    "\n",
    "print(f'На ипотеку было потрачено: {total_mortage} рублей. Было накоплено: {savings} рублей.')"
   ]
  },
  {
   "cell_type": "code",
   "execution_count": null,
   "metadata": {},
   "outputs": [],
   "source": []
  }
 ],
 "metadata": {
  "gist": {
   "data": {
    "description": "obulygin_repo/Основы Python/python_basics.ipynb",
    "public": false
   },
   "id": ""
  },
  "kernelspec": {
   "display_name": "Python 3",
   "language": "python",
   "name": "python3"
  },
  "language_info": {
   "codemirror_mode": {
    "name": "ipython",
    "version": 3
   },
   "file_extension": ".py",
   "mimetype": "text/x-python",
   "name": "python",
   "nbconvert_exporter": "python",
   "pygments_lexer": "ipython3",
   "version": "3.7.6"
  },
  "varInspector": {
   "cols": {
    "lenName": 16,
    "lenType": 16,
    "lenVar": 40
   },
   "kernels_config": {
    "python": {
     "delete_cmd_postfix": "",
     "delete_cmd_prefix": "del ",
     "library": "var_list.py",
     "varRefreshCmd": "print(var_dic_list())"
    },
    "r": {
     "delete_cmd_postfix": ") ",
     "delete_cmd_prefix": "rm(",
     "library": "var_list.r",
     "varRefreshCmd": "cat(var_dic_list()) "
    }
   },
   "types_to_exclude": [
    "module",
    "function",
    "builtin_function_or_method",
    "instance",
    "_Feature"
   ],
   "window_display": false
  }
 },
 "nbformat": 4,
 "nbformat_minor": 2
}
