{
 "cells": [
  {
   "cell_type": "markdown",
   "metadata": {},
   "source": [
    "# Задание 1\n",
    "Печатные газеты использовали свой формат дат для каждого выпуска. Для каждой газеты из списка напишите формат указанной даты для перевода в объект datetime:\n",
    "The Moscow Times - Wednesday, October 2, 2002\n",
    "The Guardian - Friday, 11.10.13\n",
    "Daily News - Thursday, 18 August 1977"
   ]
  },
  {
   "cell_type": "code",
   "execution_count": 86,
   "metadata": {},
   "outputs": [],
   "source": [
    "from datetime import datetime, timedelta\n",
    "from dateutil.rrule import rrule, DAILY\n",
    "import pandas as pd"
   ]
  },
  {
   "cell_type": "code",
   "execution_count": 66,
   "metadata": {},
   "outputs": [
    {
     "name": "stdout",
     "output_type": "stream",
     "text": [
      "2002-10-02 00:00:00 2013-10-11 00:00:00 1977-08-18 00:00:00\n"
     ]
    }
   ],
   "source": [
    "the_moscow_times_date = datetime.strptime('Wednesday, October 2, 2002', '%A, %B %d, %Y')\n",
    "the_guardian_time = datetime.strptime('Friday, 11.10.13', '%A, %d.%m.%y') # в 2013 году пятница это 11 октября\n",
    "daily_news_time = datetime.strptime('Thursday, 18 August 1977', '%A, %d %B %Y')\n",
    "\n",
    "print(the_moscow_times_date, the_guardian_time, daily_news_time)"
   ]
  },
  {
   "cell_type": "markdown",
   "metadata": {},
   "source": [
    "# Задание 2\n",
    "Дан поток дат в формате YYYY-MM-DD, в которых встречаются некорректные значения:\n",
    "stream = [‘2018-04-02’, ‘2018-02-29’, ‘2018-19-02’]\n",
    "\n",
    "Напишите функцию, которая проверяет эти даты на корректность. Т. е. для каждой даты возвращает True (дата корректна) или False (некорректная дата)."
   ]
  },
  {
   "cell_type": "code",
   "execution_count": 19,
   "metadata": {},
   "outputs": [
    {
     "name": "stdout",
     "output_type": "stream",
     "text": [
      "True\n",
      "False\n",
      "False\n"
     ]
    }
   ],
   "source": [
    "def check_date(date):\n",
    "    try:\n",
    "        datetime.strptime(date, '%Y-%m-%d')\n",
    "        return True\n",
    "    except:\n",
    "        return False\n",
    "    \n",
    "for date in ['2018-04-02', '2018-02-29', '2018-19-02']:\n",
    "    print(check_date(date))"
   ]
  },
  {
   "cell_type": "markdown",
   "metadata": {},
   "source": [
    "# Задание 3\n",
    "Напишите функцию date_range, которая возвращает список дат за период от start_date до end_date. Даты должны вводиться в формате YYYY-MM-DD. В случае неверного формата или при start_date > end_date должен возвращаться пустой список."
   ]
  },
  {
   "cell_type": "code",
   "execution_count": 92,
   "metadata": {},
   "outputs": [],
   "source": [
    "# можно было бы использовать функцию из 2го задания, но с нуля удобнее\n",
    "def check_and_convert_dates(start_date, end_date):\n",
    "    '''\n",
    "    Хочу решить несколькими вариантами, эта функция пригодится.\n",
    "    '''\n",
    "    try:\n",
    "        start_date = datetime.strptime(start_date, '%Y-%m-%d')\n",
    "        end_date = datetime.strptime(end_date, '%Y-%m-%d')\n",
    "        return start_date, end_date, start_date - end_date\n",
    "    except:\n",
    "#         print('Неверный формат даты')\n",
    "        return False    "
   ]
  },
  {
   "cell_type": "code",
   "execution_count": 93,
   "metadata": {},
   "outputs": [
    {
     "name": "stdout",
     "output_type": "stream",
     "text": [
      "[datetime.datetime(2020, 7, 2, 0, 0), datetime.datetime(2020, 7, 3, 0, 0), datetime.datetime(2020, 7, 4, 0, 0)]\n",
      "[]\n",
      "[]\n"
     ]
    }
   ],
   "source": [
    "# Решение 1\n",
    "\n",
    "def date_range(start_date, end_date):\n",
    "    date_list = []\n",
    "    if not check_and_convert_dates(start_date, end_date):\n",
    "        return []\n",
    "    else:\n",
    "        start_date, end_date, amount_days = check_and_convert_dates(start_date, end_date)\n",
    "    while start_date <= end_date:\n",
    "        date_list.append(start_date)\n",
    "        start_date += timedelta(days=1)\n",
    "    return date_list\n",
    "        \n",
    "print(date_range('2020-07-02', '2020-07-04'))\n",
    "print(date_range('2020-07-05', '2020-07-03'))\n",
    "print(date_range('2020-07-XX', '2020-07-03'))    "
   ]
  },
  {
   "cell_type": "code",
   "execution_count": 97,
   "metadata": {},
   "outputs": [
    {
     "name": "stdout",
     "output_type": "stream",
     "text": [
      "[datetime.datetime(2020, 7, 2, 0, 0), datetime.datetime(2020, 7, 3, 0, 0), datetime.datetime(2020, 7, 4, 0, 0)]\n",
      "[]\n",
      "[]\n"
     ]
    }
   ],
   "source": [
    "# Решение 2\n",
    "\n",
    "def date_range_2(start_date, end_date):\n",
    "    if not check_and_convert_dates(start_date, end_date):\n",
    "        return []\n",
    "    else:\n",
    "        start_date, end_date, amount_days = check_and_convert_dates(start_date, end_date)\n",
    "        return list(rrule(dtstart=start_date, until=end_date, freq=DAILY))\n",
    "    \n",
    "print(date_range_2('2020-07-02', '2020-07-04'))\n",
    "print(date_range_2('2020-07-05', '2020-07-03'))\n",
    "print(date_range_2('2020-07-XX', '2020-07-03')) "
   ]
  },
  {
   "cell_type": "code",
   "execution_count": 101,
   "metadata": {},
   "outputs": [
    {
     "name": "stdout",
     "output_type": "stream",
     "text": [
      "[datetime.datetime(2020, 7, 2, 0, 0), datetime.datetime(2020, 7, 3, 0, 0), datetime.datetime(2020, 7, 4, 0, 0)]\n",
      "[]\n",
      "[]\n"
     ]
    }
   ],
   "source": [
    "# Решение 3\n",
    "\n",
    "def date_range_3(start_date, end_date):\n",
    "    if not check_and_convert_dates(start_date, end_date):\n",
    "        return []\n",
    "    else:\n",
    "        start_date, end_date = check_and_convert_dates(start_date, end_date)[:1]\n",
    "        return list(pd.date_range(start_date, end_date)) \n",
    "    \n",
    "print(date_range_2('2020-07-02', '2020-07-04'))\n",
    "print(date_range_2('2020-07-05', '2020-07-03'))\n",
    "print(date_range_2('2020-07-XX', '2020-07-03')) "
   ]
  },
  {
   "cell_type": "code",
   "execution_count": 106,
   "metadata": {},
   "outputs": [
    {
     "data": {
      "text/plain": [
       "[datetime.datetime(2020, 7, 1, 0, 0),\n",
       " datetime.datetime(2020, 7, 2, 0, 0),\n",
       " datetime.datetime(2020, 7, 3, 0, 0),\n",
       " datetime.datetime(2020, 7, 4, 0, 0)]"
      ]
     },
     "execution_count": 106,
     "metadata": {},
     "output_type": "execute_result"
    }
   ],
   "source": [
    "# Решение 4. Повод разобраться с генераторами, пусть и масло масляное.\n",
    "def date_generator(start_date, end_date):\n",
    "    for date in date_range_2(start_date, end_date):\n",
    "        yield date\n",
    "        \n",
    "list(date_generator('2020-07-01', '2020-07-04'))\n"
   ]
  },
  {
   "cell_type": "code",
   "execution_count": null,
   "metadata": {},
   "outputs": [],
   "source": []
  }
 ],
 "metadata": {
  "kernelspec": {
   "display_name": "Python 3",
   "language": "python",
   "name": "python3"
  },
  "language_info": {
   "codemirror_mode": {
    "name": "ipython",
    "version": 3
   },
   "file_extension": ".py",
   "mimetype": "text/x-python",
   "name": "python",
   "nbconvert_exporter": "python",
   "pygments_lexer": "ipython3",
   "version": "3.7.6"
  },
  "varInspector": {
   "cols": {
    "lenName": 16,
    "lenType": 16,
    "lenVar": 40
   },
   "kernels_config": {
    "python": {
     "delete_cmd_postfix": "",
     "delete_cmd_prefix": "del ",
     "library": "var_list.py",
     "varRefreshCmd": "print(var_dic_list())"
    },
    "r": {
     "delete_cmd_postfix": ") ",
     "delete_cmd_prefix": "rm(",
     "library": "var_list.r",
     "varRefreshCmd": "cat(var_dic_list()) "
    }
   },
   "types_to_exclude": [
    "module",
    "function",
    "builtin_function_or_method",
    "instance",
    "_Feature"
   ],
   "window_display": false
  }
 },
 "nbformat": 4,
 "nbformat_minor": 4
}
